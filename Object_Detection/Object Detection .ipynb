{
 "cells": [
  {
   "cell_type": "code",
   "execution_count": 10,
   "metadata": {},
   "outputs": [],
   "source": [
    "import cv2 as cv"
   ]
  },
  {
   "cell_type": "code",
   "execution_count": 62,
   "metadata": {},
   "outputs": [],
   "source": [
    "#images where various objects\n",
    "img = cv.imread('transport.jpg')"
   ]
  },
  {
   "cell_type": "code",
   "execution_count": 63,
   "metadata": {},
   "outputs": [
    {
     "name": "stdout",
     "output_type": "stream",
     "text": [
      "[[3]\n",
      " [4]\n",
      " [6]] [[187  64 310 150]\n",
      " [317 267 354 189]\n",
      " [ 74 487 346 222]]\n"
     ]
    }
   ],
   "source": [
    "classNames = []\n",
    "#file where all the object names are present\n",
    "classFile = 'coco.names' \n",
    "\n",
    "#adding names of objects inside classNames List\n",
    "with open(classFile,'rt') as f:\n",
    "    classNames = f.read().rstrip('\\n').split('\\n')\n",
    "\n",
    "#using already trained data , under configPath and weightsPath variable\n",
    "configPath = 'ssd_mobilenet_v3_large_coco_2020_01_14.pbtxt'\n",
    "weightsPath = 'frozen_inference_graph.pb'\n",
    "\n",
    "#using already trained data , to detect various objects\n",
    "net = cv.dnn_DetectionModel(weightsPath,configPath)\n",
    "net.setInputSize(320,320)\n",
    "net.setInputScale(1.0/ 127.5)\n",
    "net.setInputMean((127.5,127.5,127.5))\n",
    "net.setInputSwapRB(True)\n",
    "\n",
    "#classId and boundingBox(bbox) to detect objects at index numbers of classNames List\n",
    "classIds, confs, bbox = net.detect(img,confThreshold = 0.5)\n",
    "print(classIds,bbox)\n",
    "#bbox gives the coordinates(left top and right bottom) to make rectangle"
   ]
  },
  {
   "cell_type": "code",
   "execution_count": 64,
   "metadata": {},
   "outputs": [],
   "source": [
    "#for making rectangles on the detected objects\n",
    "for classId ,confidence,box in zip(classIds.flatten(),confs.flatten(),bbox):\n",
    "    cv.rectangle(img,box,color = (0,255,0),thickness = 3)\n",
    "\n",
    "#to put names of the object under box\n",
    "    cv.putText(img,classNames[classId-1].upper(),(box[0]+10,box[1]+30),\n",
    "               cv.FONT_HERSHEY_COMPLEX,1,(0,255,0),2)"
   ]
  },
  {
   "cell_type": "code",
   "execution_count": 65,
   "metadata": {},
   "outputs": [
    {
     "data": {
      "text/plain": [
       "-1"
      ]
     },
     "execution_count": 65,
     "metadata": {},
     "output_type": "execute_result"
    }
   ],
   "source": [
    "#showing image with their names\n",
    "cv.imshow('Transport',img)\n",
    "cv.waitKey(0)"
   ]
  },
  {
   "cell_type": "code",
   "execution_count": null,
   "metadata": {},
   "outputs": [],
   "source": []
  }
 ],
 "metadata": {
  "kernelspec": {
   "display_name": "Python 3",
   "language": "python",
   "name": "python3"
  },
  "language_info": {
   "codemirror_mode": {
    "name": "ipython",
    "version": 3
   },
   "file_extension": ".py",
   "mimetype": "text/x-python",
   "name": "python",
   "nbconvert_exporter": "python",
   "pygments_lexer": "ipython3",
   "version": "3.8.3"
  }
 },
 "nbformat": 4,
 "nbformat_minor": 4
}
