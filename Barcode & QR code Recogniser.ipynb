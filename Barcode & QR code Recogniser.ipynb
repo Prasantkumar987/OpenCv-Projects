{
 "cells": [
  {
   "cell_type": "code",
   "execution_count": 1,
   "metadata": {},
   "outputs": [],
   "source": [
    "import cv2 as cv\n",
    "from pyzbar import pyzbar"
   ]
  },
  {
   "cell_type": "code",
   "execution_count": 2,
   "metadata": {},
   "outputs": [],
   "source": [
    "img = cv.imread('Untitled-1.jpg')"
   ]
  },
  {
   "cell_type": "code",
   "execution_count": 3,
   "metadata": {},
   "outputs": [],
   "source": [
    "# To decode and store information of bar and Qr code in a \"barcodes\" variable\n",
    "barcodes = pyzbar.decode(img)"
   ]
  },
  {
   "cell_type": "code",
   "execution_count": 4,
   "metadata": {},
   "outputs": [],
   "source": [
    "for barcode in barcodes:\n",
    "    x,y,w,h = barcode.rect\n",
    "    # To make a rectangle around the Barcode and QR code \n",
    "    cv.rectangle(img,(x,y),(x+w,y+h),(0,0,255),4)\n",
    "    # To decode the data of barcode\n",
    "    bdata = barcode.data.decode(\"utf-8\")\n",
    "    btype = barcode.type\n",
    "    text = f\"{bdata},{btype}\"\n",
    "    # To put the text on barcode and QR code\n",
    "    cv.putText(img,text,(x-50,y-10),cv.FONT_HERSHEY_SIMPLEX,0.5,(0,255,0),2)"
   ]
  },
  {
   "cell_type": "code",
   "execution_count": 6,
   "metadata": {},
   "outputs": [
    {
     "data": {
      "text/plain": [
       "-1"
      ]
     },
     "execution_count": 6,
     "metadata": {},
     "output_type": "execute_result"
    }
   ],
   "source": [
    "cv.imshow(\"Barcode & QR code Recognizer\",img)\n",
    "cv.waitKey(0)"
   ]
  },
  {
   "cell_type": "code",
   "execution_count": null,
   "metadata": {},
   "outputs": [],
   "source": []
  }
 ],
 "metadata": {
  "kernelspec": {
   "display_name": "Python 3",
   "language": "python",
   "name": "python3"
  },
  "language_info": {
   "codemirror_mode": {
    "name": "ipython",
    "version": 3
   },
   "file_extension": ".py",
   "mimetype": "text/x-python",
   "name": "python",
   "nbconvert_exporter": "python",
   "pygments_lexer": "ipython3",
   "version": "3.8.3"
  }
 },
 "nbformat": 4,
 "nbformat_minor": 4
}
