{
 "cells": [
  {
   "cell_type": "code",
   "execution_count": 1,
   "metadata": {},
   "outputs": [],
   "source": [
    "import numpy as np\n",
    "import cv2 as cv"
   ]
  },
  {
   "cell_type": "code",
   "execution_count": 14,
   "metadata": {},
   "outputs": [],
   "source": [
    "haar_cascade = cv.CascadeClassifier('haar_face.xml') #must include haar_face.xml file in the same directory and it is below this file on github\n",
    "#List of folders of faces\n",
    "people = ['Golu Gupta','Guddu Pandit','Kaleen Bhaiya','Madhuri Yadav','Munna Bhaiya']\n",
    "\n",
    "#opening file saved in face_train file\n",
    "features = np.load('features.npy',allow_pickle=True)\n",
    "labels = np.load('labels.npy')"
   ]
  },
  {
   "cell_type": "code",
   "execution_count": 15,
   "metadata": {},
   "outputs": [],
   "source": [
    "#Calling inbuilt Face Recognization function\n",
    "face_recognizer = cv.face.LBPHFaceRecognizer_create()\n",
    "face_recognizer.read('face_trained.yml')\n"
   ]
  },
  {
   "cell_type": "code",
   "execution_count": 13,
   "metadata": {},
   "outputs": [
    {
     "name": "stdout",
     "output_type": "stream",
     "text": [
      "Label = Madhuri Yadav with a confidence of 30.54783584764777\n"
     ]
    },
    {
     "data": {
      "text/plain": [
       "-1"
      ]
     },
     "execution_count": 13,
     "metadata": {},
     "output_type": "execute_result"
    }
   ],
   "source": [
    "img = cv.imread('509.jpg')\n",
    "gray = cv.cvtColor(img ,cv.COLOR_BGR2GRAY)\n",
    "#cv.imshow('Person',gray)\n",
    "\n",
    "#Detecting face in the image\n",
    "faces_rect = haar_cascade.detectMultiScale(gray,1.1,4)\n",
    "\n",
    "for(x,y,w,h) in faces_rect:\n",
    "    faces_roi = gray[y:y+h,x:x+h]\n",
    "    \n",
    "    label,confidence = face_recognizer.predict(faces_roi)\n",
    "    print(f'Label = {people[label]} with a confidence of {confidence}')\n",
    "    \n",
    "    #To show name of person\n",
    "    cv.putText(img,str(people[label]),(5,20),cv.FONT_HERSHEY_DUPLEX,0.5,(0,255,0),thickness=1)\n",
    "    cv.rectangle(img,(x,y),(x+w,y+h),(0,255,0),thickness=2)\n",
    "\n",
    "cv.imshow('Detected face',img)\n",
    "cv.waitKey(0)"
   ]
  },
  {
   "cell_type": "code",
   "execution_count": null,
   "metadata": {},
   "outputs": [],
   "source": []
  }
 ],
 "metadata": {
  "kernelspec": {
   "display_name": "Python 3",
   "language": "python",
   "name": "python3"
  },
  "language_info": {
   "codemirror_mode": {
    "name": "ipython",
    "version": 3
   },
   "file_extension": ".py",
   "mimetype": "text/x-python",
   "name": "python",
   "nbconvert_exporter": "python",
   "pygments_lexer": "ipython3",
   "version": "3.8.3"
  }
 },
 "nbformat": 4,
 "nbformat_minor": 4
}
