{
 "cells": [
  {
   "cell_type": "code",
   "execution_count": 2,
   "metadata": {},
   "outputs": [],
   "source": [
    "import os\n",
    "import cv2 as cv\n",
    "import numpy as np"
   ]
  },
  {
   "cell_type": "code",
   "execution_count": 3,
   "metadata": {},
   "outputs": [],
   "source": [
    "#list of the folders of faces\n",
    "people = ['Golu Gupta','Guddu Pandit','Kaleen Bhaiya','Madhuri Yadav','Munna Bhaiya']\n",
    "#Directory where all the faces are stored\n",
    "DIR = r'C:\\Users\\acer es\\Pictures\\OpenCv\\Train'\n",
    "haar_cascade = cv.CascadeClassifier('haar_face.xml') #must include haar_face.xml in same directory\n",
    "features = []\n",
    "labels = []\n",
    "\n",
    "#create_train function is to train the computer about the faces stored in the folders listed in \"people\" list\n",
    "def create_train():\n",
    "    for person in people:\n",
    "        path = os.path.join(DIR,person)\n",
    "        label = people.index(person)\n",
    "        \n",
    "        for img in os.listdir(path):\n",
    "            img_path = os.path.join(path,img)\n",
    "            \n",
    "            #Reading image and converting it into grayScale\n",
    "            img_array = cv.imread(img_path)\n",
    "            gray = cv.cvtColor(img_array,cv.COLOR_BGR2GRAY)\n",
    "            \n",
    "            #To detect face\n",
    "            faces_rect = haar_cascade.detectMultiScale(gray,scaleFactor=1.1,minNeighbors=4)\n",
    "            for (x,y,w,h) in faces_rect:\n",
    "                faces_roi = gray[y:y+h, x:x+w]\n",
    "                features.append(faces_roi)\n",
    "                labels.append(label)"
   ]
  },
  {
   "cell_type": "code",
   "execution_count": 4,
   "metadata": {},
   "outputs": [
    {
     "name": "stdout",
     "output_type": "stream",
     "text": [
      "----------------------Training Done--------------------------\n"
     ]
    }
   ],
   "source": [
    "# It will take little time to train ur data , according to amount of data given. \n",
    "#Be Patient\n",
    "create_train()\n",
    "\n",
    "print('----------------------Training Done--------------------------')\n",
    "features = np.array(features,dtype='object')\n",
    "labels = np.array(labels)\n",
    "face_recognizer = cv.face.LBPHFaceRecognizer_create()\n",
    "#Training the recognizer on the feature list and label list\n",
    "face_recognizer.train(features,labels)\n",
    "\n",
    "# we will store our data into files, so that it can become easy to use at the time of Face Recognition\n",
    "face_recognizer.save('face_trained.yml') \n",
    "np.save('features.npy',features) \n",
    "np.save('labels.npy',labels) "
   ]
  },
  {
   "cell_type": "code",
   "execution_count": null,
   "metadata": {},
   "outputs": [],
   "source": []
  },
  {
   "cell_type": "code",
   "execution_count": null,
   "metadata": {},
   "outputs": [],
   "source": []
  }
 ],
 "metadata": {
  "kernelspec": {
   "display_name": "Python 3",
   "language": "python",
   "name": "python3"
  },
  "language_info": {
   "codemirror_mode": {
    "name": "ipython",
    "version": 3
   },
   "file_extension": ".py",
   "mimetype": "text/x-python",
   "name": "python",
   "nbconvert_exporter": "python",
   "pygments_lexer": "ipython3",
   "version": "3.8.3"
  }
 },
 "nbformat": 4,
 "nbformat_minor": 4
}
