{
 "cells": [
  {
   "cell_type": "code",
   "execution_count": 2,
   "metadata": {},
   "outputs": [],
   "source": [
    "import cv2 as cv"
   ]
  },
  {
   "cell_type": "code",
   "execution_count": 3,
   "metadata": {},
   "outputs": [
    {
     "data": {
      "text/plain": [
       "-1"
      ]
     },
     "execution_count": 3,
     "metadata": {},
     "output_type": "execute_result"
    }
   ],
   "source": [
    "img = cv.imread(\"asia-1822521_640.jpg\") #Reading Image\n",
    "cv.imshow(\"Image\",img)\n",
    "cv.waitKey(0)"
   ]
  },
  {
   "cell_type": "code",
   "execution_count": 5,
   "metadata": {},
   "outputs": [
    {
     "data": {
      "text/plain": [
       "-1"
      ]
     },
     "execution_count": 5,
     "metadata": {},
     "output_type": "execute_result"
    }
   ],
   "source": [
    "img = cv.imread(\"asia-1822521_640.jpg\") #Reading Image\n",
    "cv.imshow(\"Image\",img)\n",
    "gray = cv.cvtColor(img,cv.COLOR_BGR2GRAY)\n",
    "#Simple Thresholding : Threshold converts image into binry form\n",
    "threshold,thresh = cv.threshold(gray,150,255,cv.THRESH_BINARY) \n",
    "cv.imshow('Simple Threshold',thresh)\n",
    "#Inverse Threshold\n",
    "threshold,thresh_inv =  cv.threshold(gray,150,255,cv.THRESH_BINARY_INV)\n",
    "cv.imshow('Threshold Inverse',thresh_inv)\n",
    "#Adaptive Threshold using Mean\n",
    "adaptive_thresh = cv.adaptiveThreshold(gray,255,cv.ADAPTIVE_THRESH_MEAN_C,cv.THRESH_BINARY,11,3)\n",
    "cv.imshow('Adaptive Threshold',adaptive_thresh)\n",
    "#Adaptive Threshold using Gaussian\n",
    "adaptive_thresh_gauss = cv.adaptiveThreshold(gray,255,cv.ADAPTIVE_THRESH_GAUSSIAN_C,cv.THRESH_BINARY,11,3)\n",
    "cv.imshow('Adaptive Threshold Gauss',adaptive_thresh_gauss)\n",
    "\n",
    "cv.waitKey(0)"
   ]
  },
  {
   "cell_type": "code",
   "execution_count": null,
   "metadata": {},
   "outputs": [],
   "source": []
  }
 ],
 "metadata": {
  "kernelspec": {
   "display_name": "Python 3",
   "language": "python",
   "name": "python3"
  },
  "language_info": {
   "codemirror_mode": {
    "name": "ipython",
    "version": 3
   },
   "file_extension": ".py",
   "mimetype": "text/x-python",
   "name": "python",
   "nbconvert_exporter": "python",
   "pygments_lexer": "ipython3",
   "version": "3.8.3"
  }
 },
 "nbformat": 4,
 "nbformat_minor": 4
}
