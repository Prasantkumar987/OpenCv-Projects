{
 "cells": [
  {
   "cell_type": "code",
   "execution_count": 1,
   "metadata": {},
   "outputs": [],
   "source": [
    "import cv2 as cv\n",
    "import numpy as np"
   ]
  },
  {
   "cell_type": "markdown",
   "metadata": {},
   "source": [
    "# Resize Function *(for Image, Video, Live Video)"
   ]
  },
  {
   "cell_type": "code",
   "execution_count": 22,
   "metadata": {},
   "outputs": [],
   "source": [
    "def rescaleFrame(frame , scale=0.2):\n",
    "    width = int(frame.shape[1] * scale)\n",
    "    height = int(frame.shape[0] * scale)\n",
    "    dimensions = (width,height)\n",
    "    \n",
    "    return cv.resize(frame,dimensions,interpolation=cv.INTER_AREA)\n",
    "    "
   ]
  },
  {
   "cell_type": "markdown",
   "metadata": {},
   "source": [
    "# Reading Image"
   ]
  },
  {
   "cell_type": "code",
   "execution_count": 16,
   "metadata": {},
   "outputs": [
    {
     "data": {
      "text/plain": [
       "-1"
      ]
     },
     "execution_count": 16,
     "metadata": {},
     "output_type": "execute_result"
    }
   ],
   "source": [
    "blank = np.zeros((500,500,3),dtype = 'uint8')\n",
    "#cv.imshow('Blank',blank)\n",
    "#blank[:] = 0,0,255\n",
    "#cv.imshow('Red',blank)\n",
    "cv.rectangle(blank,(0,0),(blank.shape[1]//2,blank.shape[0]//2),(0,255,0),thickness=-1)\n",
    "cv.circle(blank,(blank.shape[1]//2,blank.shape[0]//2),40,(0,0,255),thickness=-1)\n",
    "cv.line(blank,(0,0),(blank.shape[1]//2,blank.shape[0]//2),(255,255,255),thickness=3)\n",
    "cv.imshow('Image',blank)\n",
    "cv.waitKey(0)"
   ]
  },
  {
   "cell_type": "markdown",
   "metadata": {},
   "source": [
    "# Reading Video"
   ]
  },
  {
   "cell_type": "code",
   "execution_count": 23,
   "metadata": {},
   "outputs": [],
   "source": [
    "capture = cv.VideoCapture('Cat - 2879.mp4')\n",
    "\n",
    "while True:\n",
    "    isTrue,frame = capture.read()\n",
    "    frame_resized = rescaleFrame(frame)\n",
    "    cv.imshow('Video',frame)\n",
    "    cv.imshow('Video Resized',frame_resized)\n",
    "    \n",
    "    if cv.waitKey(20) & 0xFF==ord('d'):\n",
    "        break\n",
    "\n",
    "capture.release()\n",
    "cv.destroyAllWindows()"
   ]
  },
  {
   "cell_type": "markdown",
   "metadata": {},
   "source": [
    "# Changing Resolution *(only for Live Video)"
   ]
  },
  {
   "cell_type": "code",
   "execution_count": 29,
   "metadata": {},
   "outputs": [],
   "source": [
    "def changeRes (width,height):\n",
    "    capture.set(3,width)\n",
    "    capture.set(4,height)"
   ]
  },
  {
   "cell_type": "code",
   "execution_count": 33,
   "metadata": {},
   "outputs": [],
   "source": []
  },
  {
   "cell_type": "markdown",
   "metadata": {},
   "source": [
    "# Dore"
   ]
  },
  {
   "cell_type": "code",
   "execution_count": null,
   "metadata": {},
   "outputs": [],
   "source": [
    "blank = np.zeros((500,500,3),dtype = 'uint8')\n",
    "cv.circle(blank,(250,270),150,(0,0,204),thickness=-1)\n",
    "cv.circle(blank,(250,270),150,(0,0,0),thickness=2)\n",
    "cv.circle(blank,(250,200),200,(250, 165, 18),thickness=-1)\n",
    "cv.circle(blank,(245,225),175,(255,255,255),thickness=-1)\n",
    "cv.circle(blank,(245,225),175,(0,0,0),thickness=2)\n",
    "cv.circle(blank,(220,55),30,(255,255,255),thickness=-1)\n",
    "cv.circle(blank,(220,55),30,(0,0,0),thickness=2)\n",
    "cv.circle(blank,(280,55),30,(255,255,255),thickness=-1)\n",
    "cv.circle(blank,(280,55),30,(0,0,0),thickness=2)\n",
    "cv.circle(blank,(250,90),15,(0,0,204),thickness=-1)\n",
    "cv.circle(blank,(250,90),15,(0,0,0),thickness=1)\n",
    "cv.circle(blank,(230,60),10,(0,0,0),thickness=-1)\n",
    "cv.circle(blank,(270,60),10,(0,0,0),thickness=-1)\n",
    "cv.circle(blank,(230,60),10,(0,0,0),thickness=-1)\n",
    "cv.circle(blank,(270,60),10,(0,0,0),thickness=-1)\n",
    "cv.circle(blank,(230,60),3,(255,255,255),thickness=-1)\n",
    "cv.circle(blank,(270,60),3,(255,255,255),thickness=-1)\n",
    "cv.circle(blank,(247,80),4,(255,255,255),thickness=-1)\n",
    "cv.line(blank,(250,105),(250,278),(0,0,0),thickness=2)\n",
    "cv.line(blank,(230,130),(150,100),(0,0,0),thickness=2)\n",
    "cv.line(blank,(230,150),(150,150),(0,0,0),thickness=2)\n",
    "cv.line(blank,(230,170),(150,200),(0,0,0),thickness=2)\n",
    "cv.line(blank,(270,130),(350,100),(0,0,0),thickness=2)\n",
    "cv.line(blank,(270,150),(350,150),(0,0,0),thickness=2)\n",
    "cv.line(blank,(270,170),(350,200),(0,0,0),thickness=2)\n",
    "radius=130\n",
    "axes = (radius,radius)\n",
    "angle=0;\n",
    "startAngle=0;\n",
    "endAngle=180;\n",
    "center=(250,150)\n",
    "color=(0,0,0)\n",
    "\n",
    "cv.ellipse(blank,center, axes, angle, startAngle, endAngle, color,thickness=2)\n",
    "cv.circle(blank,(250,420),15,(37,253,231),thickness=-1)\n",
    "cv.line(blank,(237,415),(263,415),(0,0,0),thickness=2)\n",
    "cv.circle(blank,(250,423),5,(0,0,0),thickness=-1)\n",
    "cv.line(blank,(250,425),(250,435),(0,0,0),thickness=2)\n",
    "cv.imshow('Image',blank)\n",
    "cv.waitKey(0)"
   ]
  },
  {
   "cell_type": "code",
   "execution_count": null,
   "metadata": {},
   "outputs": [],
   "source": []
  }
 ],
 "metadata": {
  "kernelspec": {
   "display_name": "Python 3",
   "language": "python",
   "name": "python3"
  },
  "language_info": {
   "codemirror_mode": {
    "name": "ipython",
    "version": 3
   },
   "file_extension": ".py",
   "mimetype": "text/x-python",
   "name": "python",
   "nbconvert_exporter": "python",
   "pygments_lexer": "ipython3",
   "version": "3.8.3"
  }
 },
 "nbformat": 4,
 "nbformat_minor": 4
}
